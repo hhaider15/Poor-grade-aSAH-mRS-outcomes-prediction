{
  "nbformat": 4,
  "nbformat_minor": 0,
  "metadata": {
    "colab": {
      "provenance": [],
      "authorship_tag": "ABX9TyNufBAIvrt7TRmN7mjfp/Ue",
      "include_colab_link": true
    },
    "kernelspec": {
      "name": "python3",
      "display_name": "Python 3"
    },
    "language_info": {
      "name": "python"
    }
  },
  "cells": [
    {
      "cell_type": "markdown",
      "metadata": {
        "id": "view-in-github",
        "colab_type": "text"
      },
      "source": [
        "<a href=\"https://colab.research.google.com/github/hhaider15/Poor-grade-aSAH-mRS-outcomes-prediction/blob/main/Algorithmic_models_predicting_1_month_mRS_and_3_months_mRS_outcomes_for_patients_suffering_with_poor_grade_aSAH.ipynb\" target=\"_parent\"><img src=\"https://colab.research.google.com/assets/colab-badge.svg\" alt=\"Open In Colab\"/></a>"
      ]
    },
    {
      "cell_type": "markdown",
      "source": [
        "**State-of-the-Art for Automated Machine Learning Predicts Outcomes in Poor-Grade Aneurysmal Subarachnoid Hemorrhage using Routinely Measured Laboratory & Radiological Parameters: Coagulation Parameters and Liver Function as Key Prognosticators**\n",
        "\n",
        "Algorithmic models developed by Ali Haider Bangash MBBS1,2,3\n",
        "1. Department of Cerebrovascular Neurosurgery, Hhaider5 Research Group, Rawalpindi, Pakistan\n",
        "\n",
        "2. Spine Research Group, Montefiore Medical Center, Albert Einstein College of Medicine, Bronx, NY, USA\n",
        "\n",
        "3. Montefiore-Einstein Cerebrovascular Research Lab, Montefiore Medical Center, Albert Einstein College of Medicine, Bronx, NY, USA\n",
        "\n",
        "Data source: https://doi.org/10.1016/j.wneu.2024.01.041\n",
        "\n",
        "\n"
      ],
      "metadata": {
        "id": "dxnDHGMkw0UI"
      }
    },
    {
      "cell_type": "code",
      "execution_count": null,
      "metadata": {
        "id": "lW4scT6Hwxtz"
      },
      "outputs": [],
      "source": [
        "pip install mljar-supervised"
      ]
    },
    {
      "cell_type": "code",
      "source": [
        "import pandas as pd\n",
        "from sklearn.model_selection import train_test_split\n",
        "from supervised.automl import AutoML"
      ],
      "metadata": {
        "id": "Zq8uR0w6xoTm"
      },
      "execution_count": null,
      "outputs": []
    },
    {
      "cell_type": "code",
      "source": [
        "#Loading the develop algorithmic model\n",
        "import pickle\n",
        "model = ml.load('1_month_mRS.pkl') ### 3_months_mRS.pkl"
      ],
      "metadata": {
        "id": "y0McdO-bxs1T"
      },
      "execution_count": null,
      "outputs": []
    },
    {
      "cell_type": "code",
      "source": [
        "#Load the test dataset\n",
        "test = pd.read_csv(\"test.csv\")"
      ],
      "metadata": {
        "id": "COIJPdjxyQjf"
      },
      "execution_count": null,
      "outputs": []
    },
    {
      "cell_type": "code",
      "source": [
        "#Predict outcome using loaded model\n",
        "\n",
        "predictions = model.predict(test)\n",
        "print(predictions)\n"
      ],
      "metadata": {
        "id": "LBKaPLMdy8rb"
      },
      "execution_count": null,
      "outputs": []
    }
  ]
}